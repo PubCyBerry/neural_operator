{
 "cells": [
  {
   "attachments": {},
   "cell_type": "markdown",
   "metadata": {},
   "source": [
    "## Particle Swarm Optimizer \n",
    "### code from scikit-opt (https://github.com/guofei9987/scikit-opt/tree/master/sko)"
   ]
  },
  {
   "cell_type": "code",
   "execution_count": 1,
   "metadata": {},
   "outputs": [],
   "source": [
    "import matplotlib.pyplot as plt\n",
    "import os\n",
    "from time import strftime,gmtime\n",
    "\n",
    "from utils import *\n",
    "from pso import *\n"
   ]
  },
  {
   "cell_type": "code",
   "execution_count": 2,
   "metadata": {},
   "outputs": [],
   "source": [
    "overall_path = 'C:/Users/user/project/generate_ev_data/data/overall_pd.csv'\n",
    "trip_path = 'C:/Users/user/project/generate_ev_data/data/trip_pd.csv'\n",
    "\n",
    "model = ANN(layers=[3, 4, 8, 16, 8, 4, 1], activation='relu')\n",
    "\n",
    "checkpoint = torch.load('initial_model.pt')\n",
    "model.load_state_dict(checkpoint['model_state_dict'])\n",
    "loss = checkpoint['loss']"
   ]
  },
  {
   "cell_type": "code",
   "execution_count": 7,
   "metadata": {},
   "outputs": [],
   "source": [
    "def train_pso(\n",
    "        model : torch.nn.Module,\n",
    "        loader : DataLoader,\n",
    "        log_dir : str = 'runs/pso/',\n",
    "        pop : int = 40,\n",
    "        epoch : int = 40,\n",
    "        lb : float = -0.5,\n",
    "        ub : float = 0.5,\n",
    "        w : float = 0.85,\n",
    "        c : list = [1,1,1],\n",
    "        terminate_threshold : int = 0,\n",
    "        device : torch.device = 'cpu',\n",
    "        p_interval : int = 1\n",
    "        ):\n",
    "    c1, c2, c3 = c\n",
    "\n",
    "    model.eval()\n",
    "\n",
    "    learnable_params = list()\n",
    "    for p, k in zip(model.parameters(), model.state_dict().keys()):\n",
    "        if p.requires_grad == True:\n",
    "            learnable_params.extend(model.state_dict()[k].flatten().tolist())\n",
    "    state_dicts = model.state_dict()\n",
    "\n",
    "    inp, tar = next(iter(loader))\n",
    "    if len(inp) > 50 :\n",
    "        idx = torch.linspace(0, len(inp)-1, 50, dtype=torch.int64)\n",
    "        inp = inp[idx]\n",
    "        tar = tar[idx]\n",
    "    # tar = tar.flatten().detach().numpy()\n",
    "\n",
    "    pso = PSO(func=model, n_dim=len(learnable_params), pop=pop,\n",
    "                max_iter=epoch, lb=lb, ub=ub, w=w, \n",
    "                c1=c1, c2=c2, c3=c3, data=(inp,tar), verbose=False, initial_values=learnable_params)\n",
    "    \n",
    "    learned_params, best_loss = pso.run(p_interval=p_interval, terminate_threshold=terminate_threshold)\n",
    "\n",
    "    writer = SummaryWriter(log_dir)\n",
    "    for idx, i in enumerate(pso.gbest_y_hist):\n",
    "        writer.add_scalar('train_loss', i, idx)\n",
    "\n",
    "    idx=0\n",
    "    for p, k in zip(model.parameters(), model.state_dict().keys()):\n",
    "        if p.requires_grad == True:\n",
    "            l = len(p.flatten())\n",
    "            state_dicts[k] = torch.nn.Parameter(torch.from_numpy(learned_params[idx : idx + l].reshape(p.shape)))\n",
    "            idx += l\n",
    "    model.load_state_dict(state_dicts)\n",
    "    return model, pso"
   ]
  },
  {
   "cell_type": "code",
   "execution_count": 8,
   "metadata": {},
   "outputs": [],
   "source": [
    "epoch = 300\n",
    "pop = 300\n",
    "lb = -0.2\n",
    "ub = 0.2\n",
    "w = 0.9\n",
    "c = [1,1,1]\n",
    "\n",
    "calibration_threshold = 0.05\n",
    "terminate_threshold = 0.01\n",
    "p_interval = 1\n",
    "\n",
    "log_dir = 'runs/pso/' + strftime(\"%m%d%H%M\", gmtime()) + '/'"
   ]
  },
  {
   "cell_type": "code",
   "execution_count": null,
   "metadata": {},
   "outputs": [],
   "source": []
  },
  {
   "cell_type": "code",
   "execution_count": 9,
   "metadata": {},
   "outputs": [
    {
     "name": "stdout",
     "output_type": "stream",
     "text": [
      "model update at route number 14,  Update complete\n",
      "model update at route number 15,  Update complete\n",
      "model update at route number 17,  Update complete\n",
      "model update at route number 18,  "
     ]
    },
    {
     "ename": "KeyboardInterrupt",
     "evalue": "",
     "output_type": "error",
     "traceback": [
      "\u001b[1;31m---------------------------------------------------------------------------\u001b[0m",
      "\u001b[1;31mKeyboardInterrupt\u001b[0m                         Traceback (most recent call last)",
      "Cell \u001b[1;32mIn[9], line 38\u001b[0m\n\u001b[0;32m     35\u001b[0m \u001b[39mprint\u001b[39m(\u001b[39mf\u001b[39m\u001b[39m'\u001b[39m\u001b[39mmodel update at route number \u001b[39m\u001b[39m{\u001b[39;00mroute_num\u001b[39m}\u001b[39;00m\u001b[39m, \u001b[39m\u001b[39m'\u001b[39m, end\u001b[39m=\u001b[39m\u001b[39m'\u001b[39m\u001b[39m \u001b[39m\u001b[39m'\u001b[39m)\n\u001b[0;32m     36\u001b[0m loss_hist[\u001b[39m3\u001b[39m]\u001b[39m.\u001b[39mappend(route_num)\n\u001b[1;32m---> 38\u001b[0m v0_model, pso \u001b[39m=\u001b[39m train_pso(model \u001b[39m=\u001b[39;49m v0_model, epoch\u001b[39m=\u001b[39;49mepoch, pop\u001b[39m=\u001b[39;49mpop, \n\u001b[0;32m     39\u001b[0m                           loader \u001b[39m=\u001b[39;49m train_loader, log_dir\u001b[39m=\u001b[39;49m log_dir \u001b[39m+\u001b[39;49m \u001b[39mstr\u001b[39;49m(route_num),\n\u001b[0;32m     40\u001b[0m                           terminate_threshold\u001b[39m=\u001b[39;49mterminate_threshold,\n\u001b[0;32m     41\u001b[0m                           p_interval\u001b[39m=\u001b[39;49mp_interval, w\u001b[39m=\u001b[39;49mw, lb\u001b[39m=\u001b[39;49mlb, ub\u001b[39m=\u001b[39;49mub, c\u001b[39m=\u001b[39;49mc)\n\u001b[0;32m     42\u001b[0m \u001b[39mprint\u001b[39m(\u001b[39m'\u001b[39m\u001b[39mUpdate complete\u001b[39m\u001b[39m'\u001b[39m)\n\u001b[0;32m     43\u001b[0m \u001b[39m# print(time.time() - st)\u001b[39;00m\n",
      "Cell \u001b[1;32mIn[7], line 36\u001b[0m, in \u001b[0;36mtrain_pso\u001b[1;34m(model, loader, log_dir, pop, epoch, lb, ub, w, c, terminate_threshold, device, p_interval)\u001b[0m\n\u001b[0;32m     30\u001b[0m \u001b[39m# tar = tar.flatten().detach().numpy()\u001b[39;00m\n\u001b[0;32m     32\u001b[0m pso \u001b[39m=\u001b[39m PSO(func\u001b[39m=\u001b[39mmodel, n_dim\u001b[39m=\u001b[39m\u001b[39mlen\u001b[39m(learnable_params), pop\u001b[39m=\u001b[39mpop,\n\u001b[0;32m     33\u001b[0m             max_iter\u001b[39m=\u001b[39mepoch, lb\u001b[39m=\u001b[39mlb, ub\u001b[39m=\u001b[39mub, w\u001b[39m=\u001b[39mw, \n\u001b[0;32m     34\u001b[0m             c1\u001b[39m=\u001b[39mc1, c2\u001b[39m=\u001b[39mc2, c3\u001b[39m=\u001b[39mc3, data\u001b[39m=\u001b[39m(inp,tar), verbose\u001b[39m=\u001b[39m\u001b[39mFalse\u001b[39;00m, initial_values\u001b[39m=\u001b[39mlearnable_params)\n\u001b[1;32m---> 36\u001b[0m learned_params, best_loss \u001b[39m=\u001b[39m pso\u001b[39m.\u001b[39;49mrun(p_interval\u001b[39m=\u001b[39;49mp_interval, terminate_threshold\u001b[39m=\u001b[39;49mterminate_threshold)\n\u001b[0;32m     38\u001b[0m writer \u001b[39m=\u001b[39m SummaryWriter(log_dir)\n\u001b[0;32m     39\u001b[0m \u001b[39mfor\u001b[39;00m idx, i \u001b[39min\u001b[39;00m \u001b[39menumerate\u001b[39m(pso\u001b[39m.\u001b[39mgbest_y_hist):\n",
      "File \u001b[1;32mc:\\Users\\user\\project\\Update_model\\pso.py:196\u001b[0m, in \u001b[0;36mPSO.run\u001b[1;34m(self, max_iter, precision, N, p_interval, terminate_threshold)\u001b[0m\n\u001b[0;32m    194\u001b[0m \u001b[39mself\u001b[39m\u001b[39m.\u001b[39mupdate_V()\n\u001b[0;32m    195\u001b[0m \u001b[39mself\u001b[39m\u001b[39m.\u001b[39mupdate_X()\n\u001b[1;32m--> 196\u001b[0m \u001b[39mself\u001b[39;49m\u001b[39m.\u001b[39;49mcal_y()\n\u001b[0;32m    197\u001b[0m \u001b[39mself\u001b[39m\u001b[39m.\u001b[39mupdate_pbest()\n\u001b[0;32m    198\u001b[0m \u001b[39mself\u001b[39m\u001b[39m.\u001b[39mupdate_gbest()\n",
      "File \u001b[1;32mc:\\Users\\user\\project\\Update_model\\pso.py:140\u001b[0m, in \u001b[0;36mPSO.cal_y\u001b[1;34m(self)\u001b[0m\n\u001b[0;32m    138\u001b[0m \u001b[39mdef\u001b[39;00m \u001b[39mcal_y\u001b[39m(\u001b[39mself\u001b[39m):\n\u001b[0;32m    139\u001b[0m     p \u001b[39m=\u001b[39m ProcessPool(nodes\u001b[39m=\u001b[39mos\u001b[39m.\u001b[39mcpu_count())\n\u001b[1;32m--> 140\u001b[0m     output \u001b[39m=\u001b[39m p\u001b[39m.\u001b[39;49mmap(output_with_each_particle, \u001b[39mself\u001b[39;49m\u001b[39m.\u001b[39;49mmodel_list, \u001b[39mself\u001b[39;49m\u001b[39m.\u001b[39;49mX, \u001b[39mself\u001b[39;49m\u001b[39m.\u001b[39;49minput, \u001b[39mself\u001b[39;49m\u001b[39m.\u001b[39;49mtarget)\n\u001b[0;32m    141\u001b[0m     \u001b[39mself\u001b[39m\u001b[39m.\u001b[39mY \u001b[39m=\u001b[39m np\u001b[39m.\u001b[39mexpand_dims(np\u001b[39m.\u001b[39marray(output), axis\u001b[39m=\u001b[39m\u001b[39m1\u001b[39m)\n",
      "File \u001b[1;32mc:\\Users\\user\\miniconda3\\envs\\matlab\\lib\\site-packages\\pathos\\multiprocessing.py:135\u001b[0m, in \u001b[0;36mProcessPool.map\u001b[1;34m(self, f, *args, **kwds)\u001b[0m\n\u001b[0;32m    133\u001b[0m AbstractWorkerPool\u001b[39m.\u001b[39m_AbstractWorkerPool__map(\u001b[39mself\u001b[39m, f, \u001b[39m*\u001b[39margs, \u001b[39m*\u001b[39m\u001b[39m*\u001b[39mkwds)\n\u001b[0;32m    134\u001b[0m _pool \u001b[39m=\u001b[39m \u001b[39mself\u001b[39m\u001b[39m.\u001b[39m_serve()\n\u001b[1;32m--> 135\u001b[0m \u001b[39mreturn\u001b[39;00m _pool\u001b[39m.\u001b[39;49mmap(star(f), \u001b[39mzip\u001b[39;49m(\u001b[39m*\u001b[39;49margs))\n",
      "File \u001b[1;32mc:\\Users\\user\\miniconda3\\envs\\matlab\\lib\\site-packages\\multiprocess\\pool.py:367\u001b[0m, in \u001b[0;36mPool.map\u001b[1;34m(self, func, iterable, chunksize)\u001b[0m\n\u001b[0;32m    362\u001b[0m \u001b[39mdef\u001b[39;00m \u001b[39mmap\u001b[39m(\u001b[39mself\u001b[39m, func, iterable, chunksize\u001b[39m=\u001b[39m\u001b[39mNone\u001b[39;00m):\n\u001b[0;32m    363\u001b[0m \u001b[39m    \u001b[39m\u001b[39m'''\u001b[39;00m\n\u001b[0;32m    364\u001b[0m \u001b[39m    Apply `func` to each element in `iterable`, collecting the results\u001b[39;00m\n\u001b[0;32m    365\u001b[0m \u001b[39m    in a list that is returned.\u001b[39;00m\n\u001b[0;32m    366\u001b[0m \u001b[39m    '''\u001b[39;00m\n\u001b[1;32m--> 367\u001b[0m     \u001b[39mreturn\u001b[39;00m \u001b[39mself\u001b[39;49m\u001b[39m.\u001b[39;49m_map_async(func, iterable, mapstar, chunksize)\u001b[39m.\u001b[39;49mget()\n",
      "File \u001b[1;32mc:\\Users\\user\\miniconda3\\envs\\matlab\\lib\\site-packages\\multiprocess\\pool.py:768\u001b[0m, in \u001b[0;36mApplyResult.get\u001b[1;34m(self, timeout)\u001b[0m\n\u001b[0;32m    767\u001b[0m \u001b[39mdef\u001b[39;00m \u001b[39mget\u001b[39m(\u001b[39mself\u001b[39m, timeout\u001b[39m=\u001b[39m\u001b[39mNone\u001b[39;00m):\n\u001b[1;32m--> 768\u001b[0m     \u001b[39mself\u001b[39;49m\u001b[39m.\u001b[39;49mwait(timeout)\n\u001b[0;32m    769\u001b[0m     \u001b[39mif\u001b[39;00m \u001b[39mnot\u001b[39;00m \u001b[39mself\u001b[39m\u001b[39m.\u001b[39mready():\n\u001b[0;32m    770\u001b[0m         \u001b[39mraise\u001b[39;00m \u001b[39mTimeoutError\u001b[39;00m\n",
      "File \u001b[1;32mc:\\Users\\user\\miniconda3\\envs\\matlab\\lib\\site-packages\\multiprocess\\pool.py:765\u001b[0m, in \u001b[0;36mApplyResult.wait\u001b[1;34m(self, timeout)\u001b[0m\n\u001b[0;32m    764\u001b[0m \u001b[39mdef\u001b[39;00m \u001b[39mwait\u001b[39m(\u001b[39mself\u001b[39m, timeout\u001b[39m=\u001b[39m\u001b[39mNone\u001b[39;00m):\n\u001b[1;32m--> 765\u001b[0m     \u001b[39mself\u001b[39;49m\u001b[39m.\u001b[39;49m_event\u001b[39m.\u001b[39;49mwait(timeout)\n",
      "File \u001b[1;32mc:\\Users\\user\\miniconda3\\envs\\matlab\\lib\\threading.py:607\u001b[0m, in \u001b[0;36mEvent.wait\u001b[1;34m(self, timeout)\u001b[0m\n\u001b[0;32m    605\u001b[0m signaled \u001b[39m=\u001b[39m \u001b[39mself\u001b[39m\u001b[39m.\u001b[39m_flag\n\u001b[0;32m    606\u001b[0m \u001b[39mif\u001b[39;00m \u001b[39mnot\u001b[39;00m signaled:\n\u001b[1;32m--> 607\u001b[0m     signaled \u001b[39m=\u001b[39m \u001b[39mself\u001b[39;49m\u001b[39m.\u001b[39;49m_cond\u001b[39m.\u001b[39;49mwait(timeout)\n\u001b[0;32m    608\u001b[0m \u001b[39mreturn\u001b[39;00m signaled\n",
      "File \u001b[1;32mc:\\Users\\user\\miniconda3\\envs\\matlab\\lib\\threading.py:320\u001b[0m, in \u001b[0;36mCondition.wait\u001b[1;34m(self, timeout)\u001b[0m\n\u001b[0;32m    318\u001b[0m \u001b[39mtry\u001b[39;00m:    \u001b[39m# restore state no matter what (e.g., KeyboardInterrupt)\u001b[39;00m\n\u001b[0;32m    319\u001b[0m     \u001b[39mif\u001b[39;00m timeout \u001b[39mis\u001b[39;00m \u001b[39mNone\u001b[39;00m:\n\u001b[1;32m--> 320\u001b[0m         waiter\u001b[39m.\u001b[39;49macquire()\n\u001b[0;32m    321\u001b[0m         gotit \u001b[39m=\u001b[39m \u001b[39mTrue\u001b[39;00m\n\u001b[0;32m    322\u001b[0m     \u001b[39melse\u001b[39;00m:\n",
      "\u001b[1;31mKeyboardInterrupt\u001b[0m: "
     ]
    }
   ],
   "source": [
    "v0_model = deepcopy(model)\n",
    "\n",
    "v_nums = [0]\n",
    "\n",
    "loss_hist = [[], [], [], []]\n",
    "\n",
    "v0_model.eval()\n",
    "model.eval()\n",
    "\n",
    "# for route_num in range(1, 100):\n",
    "for route_num in range(13, 20):\n",
    "    routes = [route_num]\n",
    "    ev_dataset = EV_dataset(overall_path, trip_path, v_nums, routes)\n",
    "    train_loader = DataLoader(ev_dataset, batch_size=512, shuffle=False)\n",
    "\n",
    "    l_0, l_1 = 0, 0\n",
    "    for inp, tar in train_loader:\n",
    "        output_ = model(inp)\n",
    "        \n",
    "        i_loss = loss(output_, tar)\n",
    "        l_0 += i_loss.item()\n",
    "\n",
    "        output_0 = v0_model(inp)\n",
    "        v0_loss = loss(output_0, tar)\n",
    "        l_1 += v0_loss.item()\n",
    "    l_0 /= len(train_loader)\n",
    "    l_1 /= len(train_loader)\n",
    "        \n",
    "    loss_hist[0].append(route_num)\n",
    "    loss_hist[1].append(l_0)\n",
    "    loss_hist[2].append(l_1)\n",
    "\n",
    "    if l_1 > calibration_threshold:\n",
    "        # st = time.time()\n",
    "        print(f'model update at route number {route_num}, ', end=' ')\n",
    "        loss_hist[3].append(route_num)\n",
    "\n",
    "        v0_model, pso = train_pso(model = v0_model, epoch=epoch, pop=pop, \n",
    "                                  loader = train_loader, log_dir= log_dir + str(route_num),\n",
    "                                  terminate_threshold=terminate_threshold,\n",
    "                                  p_interval=p_interval, w=w, lb=lb, ub=ub, c=c)\n",
    "        print('Update complete')\n",
    "        # print(time.time() - st)\n",
    "        l_1 = 0\n",
    "        for inp, tar in train_loader:\n",
    "            output = v0_model(inp)\n",
    "            v0_loss = loss(output, tar)\n",
    "            l_1 += v0_loss.item()\n",
    "        l_1 /= len(train_loader)\n",
    "\n",
    "        loss_hist[2][-1] = l_1\n",
    "\n",
    "\n",
    "print(f'model updated {len(loss_hist[3])} times after initial model')"
   ]
  },
  {
   "cell_type": "code",
   "execution_count": null,
   "metadata": {},
   "outputs": [],
   "source": []
  },
  {
   "cell_type": "code",
   "execution_count": 10,
   "metadata": {},
   "outputs": [
    {
     "data": {
      "image/png": "[encoded data removed]",
      "text/plain": [
       "<Figure size 640x480 with 1 Axes>"
      ]
     },
     "metadata": {},
     "output_type": "display_data"
    }
   ],
   "source": [
    "plt.plot(loss_hist[0], loss_hist[1], label = 'initial model', c='b')\n",
    "plt.plot(loss_hist[0], loss_hist[2], label = 'updated model', c='g')\n",
    "plt.scatter(loss_hist[3], [0 for _ in loss_hist[3]], label = 'calibration trigger', c='r')\n",
    "plt.legend()\n",
    "plt.xlabel('route number')\n",
    "plt.ylabel('MAE loss')\n",
    "# plt.savefig('retrain_loss_plot.png')\n",
    "plt.show()\n",
    "\n",
    "# torch.save({\n",
    "#     'epoch' : 100,\n",
    "#     'model_state_dict' : v0_model.state_dict(),\n",
    "#     'optimizer_state_dict' : None,\n",
    "#     'loss' : loss\n",
    "# }, 'retrained_model.pt')"
   ]
  },
  {
   "cell_type": "code",
   "execution_count": 11,
   "metadata": {},
   "outputs": [
    {
     "data": {
      "text/plain": [
       "array([[ 5.97769644e+00, -2.24698865e-02,  1.74473620e-01, ...,\n",
       "         1.72049697e-01,  1.19771769e-01, -4.91588951e-01],\n",
       "       [ 8.75630804e-03, -2.52923603e-01, -5.63095284e-02, ...,\n",
       "        -2.75025161e-01,  3.80289707e-02, -2.80402757e-01],\n",
       "       [ 6.79719985e-01, -7.55225112e-01, -6.76575913e-02, ...,\n",
       "         1.39485117e+00,  1.82293507e-02,  5.46040061e-03],\n",
       "       ...,\n",
       "       [-7.36054522e-01,  4.62329695e-01,  4.97865211e-02, ...,\n",
       "         7.22878411e-01,  7.94094713e-02,  3.35734489e-01],\n",
       "       [-2.93114427e-02, -1.02972469e-01, -1.96878088e-01, ...,\n",
       "         2.44433158e-01,  4.70609832e-02, -7.87859718e-04],\n",
       "       [-2.26325387e-02, -1.63253890e+00, -1.17916119e-02, ...,\n",
       "        -9.27420787e-01,  3.01760934e-02, -1.50382707e-01]])"
      ]
     },
     "execution_count": 11,
     "metadata": {},
     "output_type": "execute_result"
    }
   ],
   "source": [
    "pso.V"
   ]
  },
  {
   "cell_type": "code",
   "execution_count": 12,
   "metadata": {},
   "outputs": [
    {
     "data": {
      "text/plain": [
       "array([[ 9.1011056 ,  0.79093858,  0.39957881, ...,  0.23681864,\n",
       "        -0.81205561, -0.3933174 ],\n",
       "       [ 1.09514652,  0.94430508,  0.27346416, ..., -0.07380093,\n",
       "        -0.97933513, -0.08046308],\n",
       "       [ 0.43798605, -0.26129282,  0.24822038, ...,  0.98995235,\n",
       "        -0.95148721,  0.19777791],\n",
       "       ...,\n",
       "       [ 0.14740411,  0.80547349,  0.21135925, ...,  0.52647317,\n",
       "        -0.73691898,  1.03356178],\n",
       "       [-0.21304563,  0.69382866,  0.09596261, ...,  0.24695561,\n",
       "        -0.15773089,  0.20333186],\n",
       "       [-0.32116189,  0.30428732,  0.19651096, ..., -0.37851557,\n",
       "        -0.75742741,  0.28309939]])"
      ]
     },
     "execution_count": 12,
     "metadata": {},
     "output_type": "execute_result"
    }
   ],
   "source": [
    "pso.X"
   ]
  },
  {
   "cell_type": "code",
   "execution_count": null,
   "metadata": {},
   "outputs": [],
   "source": []
  }
 ],
 "metadata": {
  "kernelspec": {
   "display_name": "matlab",
   "language": "python",
   "name": "python3"
  },
  "language_info": {
   "codemirror_mode": {
    "name": "ipython",
    "version": 3
   },
   "file_extension": ".py",
   "mimetype": "text/x-python",
   "name": "python",
   "nbconvert_exporter": "python",
   "pygments_lexer": "ipython3",
   "version": "3.10.11"
  },
  "orig_nbformat": 4
 },
 "nbformat": 4,
 "nbformat_minor": 2
}
