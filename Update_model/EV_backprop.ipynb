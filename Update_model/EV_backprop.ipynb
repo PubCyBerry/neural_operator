{
 "cells": [
  {
   "cell_type": "code",
   "execution_count": 1,
   "metadata": {},
   "outputs": [],
   "source": [
    "import numpy as np\n",
    "import torch\n",
    "from torch import nn\n",
    "import time\n",
    "import matplotlib.pyplot as plt\n",
    "from ukf  import *\n",
    "from utils import *\n",
    "from torch.utils.data import DataLoader\n",
    "import pandas as pd"
   ]
  },
  {
   "cell_type": "code",
   "execution_count": 2,
   "metadata": {},
   "outputs": [
    {
     "name": "stdout",
     "output_type": "stream",
     "text": [
      "23595\n"
     ]
    }
   ],
   "source": [
    "overall_path = 'C:/Users/user/project/generate_ev_data/data/overall_pd.csv'\n",
    "trip_path = 'C:/Users/user/project/generate_ev_data/data/trip_pd.csv'\n",
    "v_nums = [i for i in range(100)]\n",
    "routes = [0]\n",
    "\n",
    "ev_dataset = EV_dataset(overall_path, trip_path, v_nums, routes)\n",
    "print(len(ev_dataset))"
   ]
  },
  {
   "cell_type": "code",
   "execution_count": 3,
   "metadata": {},
   "outputs": [],
   "source": [
    "model = ANN(activation='relu', layers=[3, 4, 8, 16, 8, 4, 1])\n",
    "\n",
    "optimizer = torch.optim.Adam(params=model.parameters(), lr = 0.001)\n",
    "loss = torch.nn.functional.l1_loss"
   ]
  },
  {
   "cell_type": "code",
   "execution_count": 4,
   "metadata": {},
   "outputs": [
    {
     "name": "stdout",
     "output_type": "stream",
     "text": [
      "epoch num 0 loss : 0.6216181284317406\n",
      "epoch num 5 loss : 0.037526904174717525\n",
      "epoch num 10 loss : 0.030043357873075112\n",
      "epoch num 15 loss : 0.025234429075592948\n",
      "epoch num 20 loss : 0.021917281121576346\n",
      "epoch num 25 loss : 0.017734417842040138\n",
      "epoch num 30 loss : 0.014162762120606439\n",
      "epoch num 35 loss : 0.011065569215564317\n",
      "epoch num 39 loss : 0.009862996682885193\n",
      "time :  616.98\n"
     ]
    }
   ],
   "source": [
    "if os.path.isfile('initial_model.pt'):\n",
    "    print('Initial model exists')\n",
    "    \n",
    "else:\n",
    "    v_nums = [i for i in range(100)]\n",
    "    routes = [0]\n",
    "    ev_dataset = EV_dataset(overall_path, trip_path, v_nums, routes)\n",
    "    train_loader = DataLoader(ev_dataset, batch_size=256, shuffle=True)\n",
    "    epochs = 40\n",
    "\n",
    "    loss_history = [[], []]\n",
    "\n",
    "    start_time = time.time()\n",
    "    for _ in range(epochs):\n",
    "        model.train()\n",
    "        train_loss = 0\n",
    "        for inp, tar in train_loader:\n",
    "            optimizer.zero_grad()\n",
    "            output = model(inp)\n",
    "            l = loss(output, tar)\n",
    "            l.backward()\n",
    "            optimizer.step()\n",
    "            train_loss += l.item()\n",
    "        train_loss /= len(train_loader)\n",
    "\n",
    "        loss_history[0].append(_)\n",
    "        loss_history[1].append(train_loss)\n",
    "\n",
    "        if (_ % 5 == 0) or (_+1 == epochs):\n",
    "            print(f'epoch num {_} loss : {train_loss}')\n",
    "\n",
    "    print(f'time : {time.time() - start_time : .2f}')\n",
    "\n",
    "    plt.plot(loss_history[0], loss_history[1], label='train_loss')\n",
    "    plt.legend()\n",
    "    plt.xlabel('Epoch number')\n",
    "    plt.ylabel('MAE loss')\n",
    "    plt.show()\n",
    "\n",
    "    torch.save({\n",
    "        'epoch' : epochs,\n",
    "        'model_state_dict' : model.state_dict(),\n",
    "        'optimizer_state_dict' : optimizer.state_dict(),\n",
    "        'loss' : loss\n",
    "    }, 'initial_model.pt')"
   ]
  },
  {
   "cell_type": "code",
   "execution_count": 7,
   "metadata": {},
   "outputs": [
    {
     "name": "stdout",
     "output_type": "stream",
     "text": [
      "dict_keys(['epoch', 'model_state_dict', 'optimizer_state_dict', 'loss'])\n"
     ]
    }
   ],
   "source": [
    "checkpoint = torch.load('initial_model.pt')\n",
    "print(checkpoint.keys())"
   ]
  },
  {
   "cell_type": "code",
   "execution_count": 8,
   "metadata": {},
   "outputs": [],
   "source": [
    "model.load_state_dict(checkpoint['model_state_dict'])\n",
    "optimizer.load_state_dict(checkpoint['optimizer_state_dict'])\n",
    "loss = checkpoint['loss']\n",
    "epoch = checkpoint['epoch']"
   ]
  },
  {
   "cell_type": "code",
   "execution_count": 10,
   "metadata": {},
   "outputs": [
    {
     "name": "stdout",
     "output_type": "stream",
     "text": [
      "model updated at route number 17\n",
      "model updated at route number 31\n",
      "model updated at route number 38\n",
      "model updated at route number 44\n",
      "model updated at route number 52\n",
      "model updated at route number 61\n",
      "model updated at route number 67\n",
      "model updated at route number 68\n",
      "model updated at route number 72\n",
      "model updated at route number 77\n",
      "model updated at route number 80\n",
      "model updated at route number 85\n",
      "model updated at route number 90\n",
      "model updated at route number 94\n",
      "model updated at route number 95\n",
      "model updated at route number 97\n",
      "model updated 16 times after initial model\n"
     ]
    }
   ],
   "source": [
    "v0_model = deepcopy(model)\n",
    "v0_optimizer = torch.optim.Adam(params=v0_model.parameters(), lr = 0.001)\n",
    "\n",
    "v_nums = [0]\n",
    "\n",
    "loss_hist = [[], [], [], []]\n",
    "\n",
    "for route_num in range(1, 100):\n",
    "    routes = [route_num]\n",
    "    ev_dataset = EV_dataset(overall_path, trip_path, v_nums, routes)\n",
    "    train_loader = DataLoader(ev_dataset, batch_size=128, shuffle=True)\n",
    "\n",
    "    l_0, l_1 = 0, 0\n",
    "    for inp, tar in train_loader:\n",
    "        output_ = model(inp)\n",
    "        i_loss = loss(output_, tar)\n",
    "        l_0 += i_loss.item()\n",
    "\n",
    "        output_0 = v0_model(inp)\n",
    "        v0_loss = loss(output_0, tar)\n",
    "        l_1 += v0_loss.item()\n",
    "    l_0 /= len(train_loader)\n",
    "    l_1 /= len(train_loader)\n",
    "\n",
    "    if l_1 > 0.05:\n",
    "        print(f'model updated at route number {route_num}')\n",
    "        loss_hist[3].append(route_num)\n",
    "        for i in range(epochs):\n",
    "            l_1 = 0\n",
    "            for inp, tar in train_loader:\n",
    "                v0_optimizer.zero_grad()\n",
    "                output = v0_model(inp)\n",
    "                v0_loss = loss(output, tar)\n",
    "                v0_loss.backward()\n",
    "                v0_optimizer.step()\n",
    "                l_1 += v0_loss.item()\n",
    "            l_1 /= len(train_loader)\n",
    "\n",
    "\n",
    "    loss_hist[0].append(route_num)\n",
    "    loss_hist[1].append(l_0)\n",
    "    loss_hist[2].append(l_1)\n",
    "\n",
    "print(f'model updated {len(loss_hist[3])} times after initial model')"
   ]
  },
  {
   "cell_type": "code",
   "execution_count": 11,
   "metadata": {},
   "outputs": [
    {
     "data": {
      "image/png": "[encoded data removed]",
      "text/plain": [
       "<Figure size 640x480 with 1 Axes>"
      ]
     },
     "metadata": {},
     "output_type": "display_data"
    }
   ],
   "source": [
    "plt.plot(loss_hist[0], loss_hist[1], label = 'initial model', c='b')\n",
    "plt.plot(loss_hist[0], loss_hist[2], label = 'updated model', c='g')\n",
    "plt.scatter(loss_hist[3], [0 for _ in loss_hist[3]], label = 'calibration trigger', c='r')\n",
    "plt.legend()\n",
    "plt.xlabel('route number')\n",
    "plt.ylabel('MAE loss')\n",
    "plt.show()"
   ]
  },
  {
   "cell_type": "code",
   "execution_count": null,
   "metadata": {},
   "outputs": [],
   "source": []
  }
 ],
 "metadata": {
  "kernelspec": {
   "display_name": "venv",
   "language": "python",
   "name": "python3"
  },
  "language_info": {
   "codemirror_mode": {
    "name": "ipython",
    "version": 3
   },
   "file_extension": ".py",
   "mimetype": "text/x-python",
   "name": "python",
   "nbconvert_exporter": "python",
   "pygments_lexer": "ipython3",
   "version": "3.11.3"
  },
  "orig_nbformat": 4
 },
 "nbformat": 4,
 "nbformat_minor": 2
}
