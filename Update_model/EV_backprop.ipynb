{
 "cells": [
  {
   "cell_type": "code",
   "execution_count": 1,
   "metadata": {},
   "outputs": [],
   "source": [
    "import numpy as np\n",
    "import torch\n",
    "from torch import nn\n",
    "import time\n",
    "import matplotlib.pyplot as plt\n",
    "from ukf  import *\n",
    "from utils import *\n",
    "from torch.utils.data import DataLoader\n",
    "import pandas as pd"
   ]
  },
  {
   "cell_type": "code",
   "execution_count": 2,
   "metadata": {},
   "outputs": [
    {
     "name": "stdout",
     "output_type": "stream",
     "text": [
      "23595\n"
     ]
    }
   ],
   "source": [
    "overall_path = 'C:/Users/user/project/generate_ev_data/data/overall_pd.csv'\n",
    "trip_path = 'C:/Users/user/project/generate_ev_data/data/trip_pd.csv'\n",
    "v_nums = [i for i in range(100)]\n",
    "routes = [0]\n",
    "\n",
    "ev_dataset = EV_dataset(overall_path, trip_path, v_nums, routes)\n",
    "print(len(ev_dataset))"
   ]
  },
  {
   "cell_type": "code",
   "execution_count": 3,
   "metadata": {},
   "outputs": [],
   "source": [
    "model = ANN(activation='relu', layers=[3, 4, 8, 16, 8, 4, 1])\n",
    "\n",
    "optimizer = torch.optim.Adam(params=model.parameters(), lr = 0.001)\n",
    "loss = torch.nn.functional.l1_loss"
   ]
  },
  {
   "cell_type": "code",
   "execution_count": 4,
   "metadata": {},
   "outputs": [
    {
     "name": "stdout",
     "output_type": "stream",
     "text": [
      "Initial model exists\n"
     ]
    }
   ],
   "source": [
    "if os.path.isfile('initial_model.pt'):\n",
    "    print('Initial model exists')\n",
    "    \n",
    "else:\n",
    "    v_nums = [i for i in range(100)]\n",
    "    routes = [0]\n",
    "    ev_dataset = EV_dataset(overall_path, trip_path, v_nums, routes)\n",
    "    train_loader = DataLoader(ev_dataset, batch_size=256, shuffle=True)\n",
    "    epochs = 40\n",
    "\n",
    "    loss_history = [[], []]\n",
    "\n",
    "    start_time = time.time()\n",
    "    for _ in range(epochs):\n",
    "        model.train()\n",
    "        train_loss = 0\n",
    "        for inp, tar in train_loader:\n",
    "            optimizer.zero_grad()\n",
    "            output = model(inp)\n",
    "            l = loss(output, tar)\n",
    "            l.backward()\n",
    "            optimizer.step()\n",
    "            train_loss += l.item()\n",
    "        train_loss /= len(train_loader)\n",
    "\n",
    "        loss_history[0].append(_)\n",
    "        loss_history[1].append(train_loss)\n",
    "\n",
    "        if (_ % 5 == 0) or (_+1 == epochs):\n",
    "            print(f'epoch num {_} loss : {train_loss}')\n",
    "\n",
    "    print(f'time : {time.time() - start_time : .2f}')\n",
    "\n",
    "    plt.plot(loss_history[0], loss_history[1], label='train_loss')\n",
    "    plt.legend()\n",
    "    plt.xlabel('Epoch number')\n",
    "    plt.ylabel('MAE loss')\n",
    "    plt.show()\n",
    "\n",
    "    torch.save({\n",
    "        'epoch' : epochs,\n",
    "        'model_state_dict' : model.state_dict(),\n",
    "        'optimizer_state_dict' : optimizer.state_dict(),\n",
    "        'loss' : loss\n",
    "    }, 'initial_model.pt')"
   ]
  },
  {
   "cell_type": "code",
   "execution_count": 5,
   "metadata": {},
   "outputs": [
    {
     "name": "stdout",
     "output_type": "stream",
     "text": [
      "dict_keys(['epoch', 'model_state_dict', 'optimizer_state_dict', 'loss'])\n"
     ]
    }
   ],
   "source": [
    "checkpoint = torch.load('initial_model.pt')\n",
    "print(checkpoint.keys())"
   ]
  },
  {
   "cell_type": "code",
   "execution_count": 6,
   "metadata": {},
   "outputs": [],
   "source": [
    "model.load_state_dict(checkpoint['model_state_dict'])\n",
    "optimizer.load_state_dict(checkpoint['optimizer_state_dict'])\n",
    "loss = checkpoint['loss']\n",
    "epoch = checkpoint['epoch']"
   ]
  },
  {
   "cell_type": "code",
   "execution_count": 8,
   "metadata": {},
   "outputs": [
    {
     "name": "stdout",
     "output_type": "stream",
     "text": [
      "Model updated at route number 14, Update complete\n",
      "Model updated at route number 25, Update complete\n",
      "Model updated at route number 38, Update complete\n",
      "Model updated at route number 44, Update complete\n",
      "Model updated at route number 54, Update complete\n",
      "Model updated at route number 61, Update complete\n",
      "Model updated at route number 68, Update complete\n",
      "Model updated at route number 72, Update complete\n",
      "Model updated at route number 76, Update complete\n",
      "Model updated at route number 80, Update complete\n",
      "Model updated at route number 85, Update complete\n",
      "Model updated at route number 90, Update complete\n",
      "Model updated at route number 94, Update complete\n",
      "Model updated at route number 97, Update complete\n",
      "model updated 14 times after initial model\n"
     ]
    }
   ],
   "source": [
    "v0_model = deepcopy(model)\n",
    "v0_optimizer = torch.optim.Adam(params=v0_model.parameters(), lr = 0.001)\n",
    "epochs = 40\n",
    "v_nums = [0]\n",
    "\n",
    "\n",
    "dict_keys = ['route_num', 'initial_model_loss', 'update_model_loss', 'update_trigger']\n",
    "dict_values = [[], [], [], []]\n",
    "loss_hist = dict(zip(dict_keys, dict_values))\n",
    "log_dir = 'runs/backprop/' + time.strftime(\"%m%d%H%M\", time.gmtime()) + '/'\n",
    "model_parameters = []\n",
    "model_parameters.append(model_parameter_list(v0_model))\n",
    "\n",
    "model.eval()\n",
    "for route_num in range(1, 100):\n",
    "    routes = [route_num]\n",
    "    ev_dataset = EV_dataset(overall_path, trip_path, v_nums, routes)\n",
    "    train_loader = DataLoader(ev_dataset, batch_size=512, shuffle=True)\n",
    "\n",
    "    v0_model.eval()\n",
    "\n",
    "    l_0, l_1 = 0, 0\n",
    "    for inp, tar in train_loader:\n",
    "        output_ = model(inp)\n",
    "        i_loss = loss(output_, tar)\n",
    "        l_0 += i_loss.item()\n",
    "\n",
    "        output_0 = v0_model(inp)\n",
    "        v0_loss = loss(output_0, tar)\n",
    "        l_1 += v0_loss.item()\n",
    "    l_0 /= len(train_loader)\n",
    "    l_1 /= len(train_loader)\n",
    "\n",
    "    if l_1 > 0.05:\n",
    "        print(f'Model updated at route number {route_num},', end=' ')\n",
    "        loss_hist['update_trigger'].append(route_num)\n",
    "        writer = SummaryWriter(log_dir + str(route_num))\n",
    "        v0_model.train()\n",
    "        for i in range(epochs):\n",
    "            l_1 = 0\n",
    "            for inp, tar in train_loader:\n",
    "                v0_optimizer.zero_grad()\n",
    "                output = v0_model(inp)\n",
    "                v0_loss = loss(output, tar)\n",
    "                v0_loss.backward()\n",
    "                v0_optimizer.step()\n",
    "                l_1 += v0_loss.item()\n",
    "            l_1 /= len(train_loader)\n",
    "            writer.add_scalar('train_loss', l_1, i)\n",
    "\n",
    "        model_parameters.append(model_parameter_list(v0_model))\n",
    "        print('Update complete')\n",
    "\n",
    "    loss_hist['route_num'].append(route_num)\n",
    "    loss_hist['initial_model_loss'].append(l_0)\n",
    "    loss_hist['update_model_loss'].append(l_1)\n",
    "\n",
    "print('model updated {} times after initial model'.format(len(loss_hist['update_trigger'])))\n",
    "loss_hist['model_parameters'] = model_parameters\n",
    "np.save('./result/backprop.npy', loss_hist)"
   ]
  },
  {
   "cell_type": "code",
   "execution_count": null,
   "metadata": {},
   "outputs": [],
   "source": []
  },
  {
   "cell_type": "code",
   "execution_count": 9,
   "metadata": {},
   "outputs": [
    {
     "data": {
      "image/png": "[encoded data removed]",
      "text/plain": [
       "<Figure size 640x480 with 1 Axes>"
      ]
     },
     "metadata": {},
     "output_type": "display_data"
    }
   ],
   "source": [
    "plt.plot(loss_hist['route_num'], loss_hist['initial_model_loss'], label = 'initial model', c='b')\n",
    "plt.plot(loss_hist['route_num'], loss_hist['update_model_loss'], label = 'updated model', c='g')\n",
    "plt.scatter(loss_hist['update_trigger'], [0 for _ in loss_hist['update_trigger']], label = 'calibration trigger', c='r')\n",
    "plt.legend()\n",
    "plt.xlabel('route number')\n",
    "plt.ylabel('MAE loss')\n",
    "plt.savefig('retrain_loss_backprop.png')\n",
    "plt.show()"
   ]
  },
  {
   "cell_type": "code",
   "execution_count": null,
   "metadata": {},
   "outputs": [],
   "source": []
  }
 ],
 "metadata": {
  "kernelspec": {
   "display_name": "venv",
   "language": "python",
   "name": "python3"
  },
  "language_info": {
   "codemirror_mode": {
    "name": "ipython",
    "version": 3
   },
   "file_extension": ".py",
   "mimetype": "text/x-python",
   "name": "python",
   "nbconvert_exporter": "python",
   "pygments_lexer": "ipython3",
   "version": "3.11.3"
  },
  "orig_nbformat": 4
 },
 "nbformat": 4,
 "nbformat_minor": 2
}
